{
  "nbformat": 4,
  "nbformat_minor": 0,
  "metadata": {
    "colab": {
      "name": "Untitled2.ipynb",
      "provenance": [],
      "collapsed_sections": []
    },
    "kernelspec": {
      "name": "python3",
      "display_name": "Python 3"
    }
  },
  "cells": [
    {
      "cell_type": "code",
      "metadata": {
        "id": "Wue5eCREYO7f",
        "colab_type": "code",
        "outputId": "3a625337-9f89-4d74-9183-fc32b978e3ba",
        "colab": {
          "base_uri": "https://localhost:8080/",
          "height": 51
        }
      },
      "source": [
        "def sortowanie_babelkowe(lista):\n",
        "  dlugosc = len(lista)\n",
        "  for i in range(dlugosc):\n",
        "    for j in range(dlugosc-i-1):\n",
        "      if lista[j] > lista[j+1]:\n",
        "        lista[j], lista[j+1] = lista[j+1], lista[j]\n",
        "  return\n",
        "\n",
        "\n",
        "lista1 = [64, 34, 25, 12, 22, 11, 90]\n",
        "sortowanie_babelkowe(lista1)\n",
        "print(lista1)"
      ],
      "execution_count": 0,
      "outputs": [
        {
          "output_type": "stream",
          "text": [
            "[64, 34, 25, 12, 22, 11, 90]\n",
            "[11, 12, 22, 25, 34, 64, 90]\n"
          ],
          "name": "stdout"
        }
      ]
    },
    {
      "cell_type": "code",
      "metadata": {
        "id": "EQeoLihgdIlt",
        "colab_type": "code",
        "outputId": "d5bb8561-cff4-441a-f7ec-efbbb3996f27",
        "colab": {
          "base_uri": "https://localhost:8080/",
          "height": 34
        }
      },
      "source": [
        "def sortowanie_przez_wstawianie(lista):\n",
        "  dlugosc = len(lista)\n",
        "  for i in range(1, dlugosc):\n",
        "    wybrany_element = lista[i]\n",
        "    j = i - 1\n",
        "    while j >= 0 and wybrany_element < lista[j]:\n",
        "      lista[j+1] = lista[j]\n",
        "      j = j - 1\n",
        "    lista[j + 1] = wybrany_element #swap?\n",
        "  return\n",
        "\n",
        "\n",
        "lista2 = [64, 34, 25, 12, 22, 11, 90]\n",
        "sortowanie_przez_wstawianie(lista2)\n",
        "print(lista2)"
      ],
      "execution_count": 0,
      "outputs": [
        {
          "output_type": "stream",
          "text": [
            "[11, 12, 22, 25, 34, 64, 90]\n"
          ],
          "name": "stdout"
        }
      ]
    },
    {
      "cell_type": "code",
      "metadata": {
        "id": "KfAsGja9RZSg",
        "colab_type": "code",
        "outputId": "3146b757-a4ae-4b99-f1b3-4d2ef20293d9",
        "colab": {
          "base_uri": "https://localhost:8080/",
          "height": 34
        }
      },
      "source": [
        "def pierwsze_wartosci_babelkowo(lista, wart_progowa, ile = 3):\n",
        "  pierwsze_trzy_wartosci = []\n",
        "  el = 0\n",
        "  while len(pierwsze_trzy_wartosci) < ile and el < len(lista):\n",
        "    if lista[el] > wart_progowa:\n",
        "      pierwsze_trzy_wartosci.append([el, lista[el]])\n",
        "    el = el + 1\n",
        "\n",
        "  for i in range(ile):\n",
        "    for j in range(ile-i-1):\n",
        "      if pierwsze_trzy_wartosci[j][1] < pierwsze_trzy_wartosci[j+1][1]:\n",
        "        pierwsze_trzy_wartosci[j], pierwsze_trzy_wartosci[j+1] = pierwsze_trzy_wartosci[j+1], pierwsze_trzy_wartosci[j]\n",
        "  return pierwsze_trzy_wartosci\n",
        "\n",
        "pierwsze_wartosci_babelkowo([9,1,1,1,0,0,0,8,10,11,14,2132323,24234524], 2)"
      ],
      "execution_count": 0,
      "outputs": [
        {
          "output_type": "execute_result",
          "data": {
            "text/plain": [
              "[[8, 10], [0, 9], [7, 8]]"
            ]
          },
          "metadata": {
            "tags": []
          },
          "execution_count": 3
        }
      ]
    },
    {
      "cell_type": "code",
      "metadata": {
        "id": "jvA0178UcCEh",
        "colab_type": "code",
        "outputId": "04c1def5-9568-4154-adbc-74162d5fbe2a",
        "colab": {
          "base_uri": "https://localhost:8080/",
          "height": 34
        }
      },
      "source": [
        "def pierwsze_wartosci_wstawianie(lista, wart_progowa, ile = 3):\n",
        "  pierwsze_wartosci = []\n",
        "  el = 0\n",
        "  while len(pierwsze_wartosci) < ile and el < len(lista):\n",
        "    if lista[el] > wart_progowa:\n",
        "      pierwsze_wartosci.append([el, lista[el]])\n",
        "    el = el + 1\n",
        "\n",
        "  for i in range(1, ile):\n",
        "    wybrany_element = pierwsze_wartosci[i]\n",
        "    j = i - 1\n",
        "    while j >= 0 and wybrany_element[1] > lista[j]:\n",
        "      pierwsze_wartosci[j+1] = pierwsze_wartosci[j]\n",
        "      j = j - 1\n",
        "    pierwsze_wartosci[j + 1], wybrany_element = wybrany_element, pierwsze_wartosci[j + 1]\n",
        "  \n",
        "  return pierwsze_wartosci\n",
        "\n",
        "pierwsze_wartosci_wstawianie([9,1,1,1,0,0,0,8,10,11,14,2132323,24234524], 2)"
      ],
      "execution_count": 0,
      "outputs": [
        {
          "output_type": "execute_result",
          "data": {
            "text/plain": [
              "[[8, 10], [0, 9], [7, 8]]"
            ]
          },
          "metadata": {
            "tags": []
          },
          "execution_count": 13
        }
      ]
    },
    {
      "cell_type": "code",
      "metadata": {
        "id": "gji-nbXseFTL",
        "colab_type": "code",
        "outputId": "e9734d5e-8a03-46c0-92bb-d50bb6c9eb5c",
        "colab": {
          "base_uri": "https://localhost:8080/",
          "height": 51
        }
      },
      "source": [
        "import time\n",
        "\n",
        "\n",
        "start_b = time.time()\n",
        "pierwsze_wartosci_babelkowo([9,1,1,1,0,0,0,8,10,11,14,2132323,24234524], 2)\n",
        "stop_b = time.time()\n",
        "\n",
        "start_w = time.time()\n",
        "pierwsze_wartosci_wstawianie([9,1,1,1,0,0,0,8,10,11,14,2132323,24234524], 2)\n",
        "stop_w = time.time()\n",
        "\n",
        "czas_b = stop_b - start_b\n",
        "czas_w = stop_w - start_w\n",
        "print(\"Babelkowo zajelo %f sekundy\\nWstawianie zajelo %f sekundy\"%(czas_b, czas_w))"
      ],
      "execution_count": 0,
      "outputs": [
        {
          "output_type": "stream",
          "text": [
            "Babelkowo zajelo 0.000073 sekundy\n",
            "Wstawianie zajelo 0.000043 sekundy\n"
          ],
          "name": "stdout"
        }
      ]
    }
  ]
}